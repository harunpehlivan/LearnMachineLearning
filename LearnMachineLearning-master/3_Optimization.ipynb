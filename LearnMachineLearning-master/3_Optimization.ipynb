{
  "nbformat": 4,
  "nbformat_minor": 0,
  "metadata": {
    "colab": {
      "name": "3.Optimization.ipynb",
      "provenance": [],
      "toc_visible": true,
      "authorship_tag": "ABX9TyNW8LYU9WY7F7nadsmFArPX",
      "include_colab_link": true
    },
    "kernelspec": {
      "name": "python3",
      "display_name": "Python 3"
    }
  },
  "cells": [
    {
      "cell_type": "markdown",
      "metadata": {
        "id": "view-in-github",
        "colab_type": "text"
      },
      "source": [
        "<a href=\"https://colab.research.google.com/github/KhanradCoder/LearnMachineLearning/blob/master/3_Optimization.ipynb\" target=\"_parent\"><img src=\"https://colab.research.google.com/assets/colab-badge.svg\" alt=\"Open In Colab\"/></a>"
      ]
    },
    {
      "cell_type": "markdown",
      "metadata": {
        "id": "CIM_qwX5GRpx",
        "colab_type": "text"
      },
      "source": [
        "#Preprocessing the Data\n",
        "\n"
      ]
    },
    {
      "cell_type": "code",
      "metadata": {
        "id": "tUIsXzgMEXBJ",
        "colab_type": "code",
        "colab": {}
      },
      "source": [
        "import pandas as pd\n",
        "\n",
        "dataset = pd.read_csv('cancer.csv')\n",
        "x = dataset.iloc[:, 2:29].values\n",
        "y = dataset.iloc[:, 1].values"
      ],
      "execution_count": 0,
      "outputs": []
    },
    {
      "cell_type": "code",
      "metadata": {
        "id": "NZJD7JGDEpN_",
        "colab_type": "code",
        "colab": {}
      },
      "source": [
        "from sklearn.model_selection import train_test_split\n",
        "x_train, x_test, y_train, y_test = train_test_split(x, y, test_size = 0.2)"
      ],
      "execution_count": 0,
      "outputs": []
    },
    {
      "cell_type": "code",
      "metadata": {
        "id": "7o6U-9vDEtBW",
        "colab_type": "code",
        "colab": {}
      },
      "source": [
        "from sklearn.preprocessing import StandardScaler\n",
        "scaler = StandardScaler()\n",
        "x_train = scaler.fit_transform(x_train)\n",
        "x_test = scaler.transform(x_test)"
      ],
      "execution_count": 0,
      "outputs": []
    },
    {
      "cell_type": "markdown",
      "metadata": {
        "id": "biqmqbmeBGVB",
        "colab_type": "text"
      },
      "source": [
        "# Principle Component Analysis\n",
        "In PCA, we take two variables that are correlated and turn them into a vector, reducing the dimensions of our dataset.\n",
        "\n",
        "<img src=\"https://liorpachter.files.wordpress.com/2014/05/pca_figure1.jpg\" height=400 width=450>"
      ]
    },
    {
      "cell_type": "code",
      "metadata": {
        "id": "3tjHSQMjV2oB",
        "colab_type": "code",
        "outputId": "02d56240-e35e-4d3f-fd45-e27762dd2c78",
        "colab": {
          "base_uri": "https://localhost:8080/",
          "height": 197
        }
      },
      "source": [
        "from sklearn.decomposition import PCA\n",
        "pca = PCA(n_components = 1)\n",
        "\n",
        "x_train_scaled = pca.fit_transform(x_train)\n",
        "print(x_train_scaled[:10])"
      ],
      "execution_count": 0,
      "outputs": [
        {
          "output_type": "stream",
          "text": [
            "[[ 3.10862742]\n",
            " [ 6.99512104]\n",
            " [13.39919721]\n",
            " [ 3.39219269]\n",
            " [-2.11751306]\n",
            " [-4.10203571]\n",
            " [12.99880763]\n",
            " [-0.55358029]\n",
            " [-4.83234678]\n",
            " [ 4.39581291]]\n"
          ],
          "name": "stdout"
        }
      ]
    },
    {
      "cell_type": "markdown",
      "metadata": {
        "id": "2dJpc3rKH75E",
        "colab_type": "text"
      },
      "source": [
        "You can see here if we reduce the data to one dimension we can plot it and perform logistic regression."
      ]
    },
    {
      "cell_type": "code",
      "metadata": {
        "id": "JLsj67_QE8UQ",
        "colab_type": "code",
        "outputId": "6e77a2d2-1922-433f-810d-b626de612d6d",
        "colab": {
          "base_uri": "https://localhost:8080/",
          "height": 265
        }
      },
      "source": [
        "import matplotlib.pyplot as plt\n",
        "plt.scatter(x_train_scaled, y_train)\n",
        "plt.show()"
      ],
      "execution_count": 0,
      "outputs": [
        {
          "output_type": "display_data",
          "data": {
            "image/png": "[encoded data removed]",
            "text/plain": [
              "<Figure size 432x288 with 1 Axes>"
            ]
          },
          "metadata": {
            "tags": [],
            "needs_background": "light"
          }
        }
      ]
    },
    {
      "cell_type": "markdown",
      "metadata": {
        "id": "ypnFwPQdB6aZ",
        "colab_type": "text"
      },
      "source": [
        "# Gradient Boosting\n",
        "\n",
        "Gradient boosing is one of the most powerful machine learning algorithms. Essentially, the model creates a bunch of weak models and takes the best components of each one using gradient descent. Think of this like random forrest but instead of just averaging all the values, the model picks the best branches of each tree."
      ]
    },
    {
      "cell_type": "code",
      "metadata": {
        "id": "_O4IN-rSGJFs",
        "colab_type": "code",
        "outputId": "52d3ab9e-0f64-4826-9098-106e68b697cb",
        "colab": {
          "base_uri": "https://localhost:8080/",
          "height": 197
        }
      },
      "source": [
        "from sklearn.ensemble import GradientBoostingClassifier\n",
        "\n",
        "gradientboost = GradientBoostingClassifier()\n",
        "gradientboost.fit(x_train, y_train)"
      ],
      "execution_count": 0,
      "outputs": [
        {
          "output_type": "execute_result",
          "data": {
            "text/plain": [
              "GradientBoostingClassifier(ccp_alpha=0.0, criterion='friedman_mse', init=None,\n",
              "                           learning_rate=0.1, loss='deviance', max_depth=3,\n",
              "                           max_features=None, max_leaf_nodes=None,\n",
              "                           min_impurity_decrease=0.0, min_impurity_split=None,\n",
              "                           min_samples_leaf=1, min_samples_split=2,\n",
              "                           min_weight_fraction_leaf=0.0, n_estimators=100,\n",
              "                           n_iter_no_change=None, presort='deprecated',\n",
              "                           random_state=None, subsample=1.0, tol=0.0001,\n",
              "                           validation_fraction=0.1, verbose=0,\n",
              "                           warm_start=False)"
            ]
          },
          "metadata": {
            "tags": []
          },
          "execution_count": 42
        }
      ]
    },
    {
      "cell_type": "code",
      "metadata": {
        "id": "QwLYlm7dKAGO",
        "colab_type": "code",
        "outputId": "b47a802a-c3ac-4da2-8a27-45dee7bdfa65",
        "colab": {
          "base_uri": "https://localhost:8080/",
          "height": 53
        }
      },
      "source": [
        "y_preds = gradientboost.predict(x_test)\n",
        "\n",
        "from sklearn.metrics import confusion_matrix\n",
        "print(confusion_matrix(y_test, y_preds))"
      ],
      "execution_count": 0,
      "outputs": [
        {
          "output_type": "stream",
          "text": [
            "[[66  2]\n",
            " [ 3 43]]\n"
          ],
          "name": "stdout"
        }
      ]
    },
    {
      "cell_type": "markdown",
      "metadata": {
        "id": "mdaB0qnyV5Bj",
        "colab_type": "text"
      },
      "source": [
        "##XGBoost\n",
        "The most popular and robust gradient boosting algorithm is XGBoost. This algorithm wins the most kaggle competitions and works well in a variety of scenarios, though it is prone to overfit."
      ]
    },
    {
      "cell_type": "code",
      "metadata": {
        "id": "4cFojDteI8mv",
        "colab_type": "code",
        "outputId": "b6f6efa3-e4d8-4121-aca0-0a5a3e7b2ef4",
        "colab": {
          "base_uri": "https://localhost:8080/",
          "height": 143
        }
      },
      "source": [
        "from xgboost import XGBClassifier\n",
        "\n",
        "xgboost = XGBClassifier()\n",
        "xgboost.fit(x_train, y_train)"
      ],
      "execution_count": 0,
      "outputs": [
        {
          "output_type": "execute_result",
          "data": {
            "text/plain": [
              "XGBClassifier(base_score=0.5, booster='gbtree', colsample_bylevel=1,\n",
              "              colsample_bynode=1, colsample_bytree=1, gamma=0,\n",
              "              learning_rate=0.1, max_delta_step=0, max_depth=3,\n",
              "              min_child_weight=1, missing=None, n_estimators=100, n_jobs=1,\n",
              "              nthread=None, objective='binary:logistic', random_state=0,\n",
              "              reg_alpha=0, reg_lambda=1, scale_pos_weight=1, seed=None,\n",
              "              silent=None, subsample=1, verbosity=1)"
            ]
          },
          "metadata": {
            "tags": []
          },
          "execution_count": 44
        }
      ]
    },
    {
      "cell_type": "code",
      "metadata": {
        "id": "6TFXidzrJB9w",
        "colab_type": "code",
        "outputId": "5c09ec71-1544-47da-e7c4-b2877f3cb82e",
        "colab": {
          "base_uri": "https://localhost:8080/",
          "height": 53
        }
      },
      "source": [
        "y_preds = xgboost.predict(x_test)\n",
        "\n",
        "from sklearn.metrics import confusion_matrix\n",
        "print(confusion_matrix(y_test, y_preds))"
      ],
      "execution_count": 0,
      "outputs": [
        {
          "output_type": "stream",
          "text": [
            "[[66  2]\n",
            " [ 3 43]]\n"
          ],
          "name": "stdout"
        }
      ]
    },
    {
      "cell_type": "markdown",
      "metadata": {
        "id": "hpgS6INIKsWi",
        "colab_type": "text"
      },
      "source": [
        "**And just like that, you've completed this course. Check the github for links on what to do next. Have a great day and happy coding!**"
      ]
    }
  ]
}