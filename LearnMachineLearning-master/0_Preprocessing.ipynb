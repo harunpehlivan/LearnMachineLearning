{
  "nbformat": 4,
  "nbformat_minor": 0,
  "metadata": {
    "colab": {
      "name": "0.Preprocessing.ipynb",
      "provenance": [],
      "collapsed_sections": [],
      "authorship_tag": "ABX9TyOBqZdbmqO42dGys+4nKOFs",
      "include_colab_link": true
    },
    "kernelspec": {
      "name": "python3",
      "display_name": "Python 3"
    }
  },
  "cells": [
    {
      "cell_type": "markdown",
      "metadata": {
        "id": "view-in-github",
        "colab_type": "text"
      },
      "source": [
        "<a href=\"https://colab.research.google.com/github/KhanradCoder/LearnMachineLearning/blob/master/0_Preprocessing.ipynb\" target=\"_parent\"><img src=\"https://colab.research.google.com/assets/colab-badge.svg\" alt=\"Open In Colab\"/></a>"
      ]
    },
    {
      "cell_type": "markdown",
      "metadata": {
        "id": "-QLLEbfdQFRY",
        "colab_type": "text"
      },
      "source": [
        "Getting the dataset"
      ]
    },
    {
      "cell_type": "code",
      "metadata": {
        "id": "WXWpDgTcCF_F",
        "colab_type": "code",
        "colab": {}
      },
      "source": [
        "import pandas as pd\n",
        "dataset = pd.read_csv(\"test_data.csv\")\n",
        "x = dataset.drop(\"predicted_value\")"
      ],
      "execution_count": 0,
      "outputs": []
    },
    {
      "cell_type": "markdown",
      "metadata": {
        "id": "r0hEo1XSQICo",
        "colab_type": "text"
      },
      "source": [
        "Here we deal with missing values by replacing them with the average of their column. If you would like to learn more data preprocessing tips, [click here.](https://towardsdatascience.com/data-cleaning-with-python-and-pandas-detecting-missing-values-3e9c6ebcf78b)"
      ]
    },
    {
      "cell_type": "code",
      "metadata": {
        "id": "WUXNmJwsQHqS",
        "colab_type": "code",
        "colab": {}
      },
      "source": [
        "mean_of_col = x[\"col_name\"].mean() #axis=0 in paranthesis\n",
        "median_of_col = x[\"col_name\"].median() #axis=0 in paranthesis\n",
        "\n",
        "for i in x[\"col_name\"]:\n",
        "  if x[\"col_name\"][i].isnull():\n",
        "    x[\"col_name\"][i] = mean_of_col"
      ],
      "execution_count": 0,
      "outputs": []
    },
    {
      "cell_type": "markdown",
      "metadata": {
        "id": "gbbCyUjGS6E0",
        "colab_type": "text"
      },
      "source": [
        "Categorical Variables are variables that don't have a set number associated with them. A categorical variable could be something like a country, type of species, or anything that isn't defaultly represented by a number. To put categorical variables into our model, we need to onhotencode our variables, so that the category is represented by 1's and 0's. ![alt text](https://i.imgur.com/mtimFxh.png)"
      ]
    },
    {
      "cell_type": "code",
      "metadata": {
        "id": "yXs-wzkkS5wU",
        "colab_type": "code",
        "colab": {}
      },
      "source": [
        "from sklearn.preprocessing import OneHotEncoder, LabelEncoder\n",
        "\n",
        "le = preprocessing.LabelEncoder()\n",
        "dataset_encoded = dataset.apply(le.fit_transform)\n",
        "\n",
        "encoder = OneHotEncoder()\n",
        "encoder.fit(dataset)\n",
        "\n",
        "onehotlabels = encoder.transform(dataset_encoded).toarray()"
      ],
      "execution_count": 0,
      "outputs": []
    },
    {
      "cell_type": "markdown",
      "metadata": {
        "id": "WZRS6ggvXKq5",
        "colab_type": "text"
      },
      "source": [
        "If we want to preprocess our data even further, we can use feature scaling. Feature scaling puts the individual features in our data all on the same relative scale. For instance, all features would be represented in a scale between 0 and 1. This helps our data more easily map out correlations. Essentially, we compare the z-score of every feature instead of the feature itself. If you would like to understand why we use feature scaling, [click here.](https://towardsdatascience.com/all-about-feature-scaling-bcc0ad75cb35)"
      ]
    },
    {
      "cell_type": "code",
      "metadata": {
        "id": "eESL-5aVXytn",
        "colab_type": "code",
        "colab": {}
      },
      "source": [
        "from sklearn.preprocessing import StandardScaler\n",
        "scaler = StandardScaler()\n",
        "x = scaler.fit_transform(x)"
      ],
      "execution_count": 0,
      "outputs": []
    }
  ]
}